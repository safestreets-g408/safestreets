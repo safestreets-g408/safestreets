{
  "nbformat": 4,
  "nbformat_minor": 0,
  "metadata": {
    "colab": {
      "provenance": [],
      "gpuType": "T4"
    },
    "kernelspec": {
      "name": "python3",
      "display_name": "Python 3"
    },
    "language_info": {
      "name": "python"
    },
    "accelerator": "GPU"
  },
  "cells": [
    {
      "cell_type": "code",
      "source": [
        "import google.generativeai as genai\n",
        "\n",
        "# ⛔ Replace this with your own API key from Google Cloud Console\n",
        "GOOGLE_API_KEY = \"GEMINI_API_KEY\"\n",
        "\n",
        "# Configure the API key\n",
        "genai.configure(api_key=GOOGLE_API_KEY)\n",
        "\n",
        "# Load the Gemini 1.5 Flash model\n",
        "model = genai.GenerativeModel(model_name=\"gemini-1.5-flash\")\n",
        "\n",
        "# Function to generate summary\n",
        "def generate_road_damage_summary(location, damage_type, severity, priority):\n",
        "    prompt = f\"\"\"\n",
        "    Write a 100 word road damage report summary based on the following details:\n",
        "    - Location: {location}\n",
        "    - Damage Type: {damage_type}\n",
        "    - Severity: {severity}\n",
        "    - Priority: {priority}\n",
        "\n",
        "    Use clear, simple language and explain the significance of the damage.\n",
        "    \"\"\"\n",
        "    response = model.generate_content(prompt)\n",
        "    return response.text\n",
        "\n",
        "# Example usage\n",
        "summary = generate_road_damage_summary(\n",
        "    location=\"Hyderabad, Telangana, India\",\n",
        "    damage_type=\"Linear Crack\",\n",
        "    severity=\"Medium\",\n",
        "    priority=\"5\"\n",
        ")\n",
        "\n",
        "print(\"Generated Summary:\\n\")\n",
        "print(summary)\n"
      ],
      "metadata": {
        "colab": {
          "base_uri": "https://localhost:8080/",
          "height": 108
        },
        "id": "V2vic_yimIVf",
        "outputId": "3b38388e-6311-4f92-da22-70fe6881717c"
      },
      "execution_count": 3,
      "outputs": [
        {
          "output_type": "stream",
          "name": "stdout",
          "text": [
            "Generated Summary:\n",
            "\n",
            "This report summarizes road damage in Hyderabad, Telangana, India.  A medium-severity linear crack (priority 5) has been observed.  The crack's length and width are [insert measurements if available], and it's located at [insert specific location, e.g., the intersection of Road A and Road B]. While not immediately critical, this crack warrants attention.  If left unaddressed, it could worsen, potentially leading to larger potholes or structural damage, increasing the risk of vehicle damage and accidents.  Repair is recommended to prevent further deterioration.\n",
            "\n"
          ]
        }
      ]
    },
    {
      "cell_type": "markdown",
      "source": [],
      "metadata": {
        "id": "IHrvdubSE_3r"
      }
    }
  ]
}